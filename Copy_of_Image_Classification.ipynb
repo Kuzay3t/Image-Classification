{
  "cells": [
    {
      "cell_type": "markdown",
      "metadata": {
        "id": "view-in-github",
        "colab_type": "text"
      },
      "source": [
        "<a href=\"https://colab.research.google.com/github/Kuzay3t/Image-Classification/blob/main/Copy_of_Image_Classification.ipynb\" target=\"_parent\"><img src=\"https://colab.research.google.com/assets/colab-badge.svg\" alt=\"Open In Colab\"/></a>"
      ]
    },
    {
      "cell_type": "markdown",
      "metadata": {
        "id": "hNeBtncoJmKv"
      },
      "source": [
        "# Image Classification Starter Notebook\n",
        "\n",
        "Welcome to the Image Classification Starter Notebook for our Hacktoberfest competition! 🚀\n",
        "\n",
        "In this notebook, you'll find a ready-to-use Python script that provides a solid foundation for building an image classifier to classify buildings into three classes: Bungalow, Highrise, and Storey buildings.\n",
        "\n",
        "## Getting Started\n",
        "\n",
        "To get started, follow these steps:\n",
        "\n",
        "1. **Clone the Repository**: Begin by cloning this repository to your local machine.\n",
        "\n",
        "2. **Organize Your Data**: Ensure that your image data is organized in the `Data` directory, with subdirectories for each class (`Bungalow`, `Highrise`, `Storey-Building`).\n",
        "\n",
        "3. **Open the Notebook**: Open this notebook in a Jupyter environment.\n",
        "\n",
        "4. **Follow the Code**: The notebook contains commented code that guides you through the process of setting up the data, building and training the model, and evaluating its performance.\n",
        "\n",
        "5. **Experiment and Contribute**: Feel free to experiment with different architectures, hyperparameters, or augmentation techniques. If you come up with improvements, consider contributing them back to the project!\n",
        "\n",
        "## Important Notes\n",
        "\n",
        "- Ensure that you have TensorFlow and related dependencies installed in your environment.\n",
        "- If you encounter any issues or have questions, don't hesitate to reach out. We're here to help!\n",
        "\n",
        "Happy coding, and let's build an amazing image classifier together!\n"
      ]
    },
    {
      "cell_type": "code",
      "execution_count": 46,
      "metadata": {
        "id": "s8yiHJVNJmKy"
      },
      "outputs": [],
      "source": [
        "# Import necessary libraries\n",
        "import os\n",
        "import numpy as np\n",
        "import tensorflow as tf\n",
        "from tensorflow.keras.preprocessing.image import ImageDataGenerator\n",
        "import pandas as pd\n",
        "from sklearn.metrics import accuracy_score\n",
        "import matplotlib.pyplot as plt\n",
        "from tensorflow.keras.layers import Dropout\n",
        "from tensorflow.keras.applications import VGG16\n",
        "import torch\n",
        "import torch.nn as nn\n",
        "import torch.nn.functional as F\n",
        "import torch.optim as optim\n",
        "from torch.utils.data import DataLoader\n",
        "from torchvision import datasets, transforms\n",
        "from torch.utils.data import random_split"
      ]
    },
    {
      "cell_type": "code",
      "execution_count": 11,
      "metadata": {
        "collapsed": true,
        "id": "sdSETuSM7sqt",
        "colab": {
          "base_uri": "https://localhost:8080/"
        },
        "outputId": "a6c9c169-bc07-4beb-918a-28578f7faff3"
      },
      "outputs": [
        {
          "output_type": "stream",
          "name": "stdout",
          "text": [
            "'Building Types.zip'   model1.h5   model2.h5   model3.h5   my_folder   sample_data\n"
          ]
        }
      ],
      "source": [
        "!ls /content\n"
      ]
    },
    {
      "cell_type": "code",
      "execution_count": 12,
      "metadata": {
        "id": "q8RmMEJDDZhF",
        "colab": {
          "base_uri": "https://localhost:8080/"
        },
        "outputId": "31bc0cc3-28ea-431d-ee01-31d5167d9e9d"
      },
      "outputs": [
        {
          "output_type": "stream",
          "name": "stdout",
          "text": [
            "Extracted files: ['__MACOSX', 'Building Types']\n",
            "Extracted files: ['__MACOSX', 'Building Types']\n"
          ]
        }
      ],
      "source": [
        "import zipfile\n",
        "import os\n",
        "\n",
        "zip_file_path = \"/content/your_uploaded_file.zip\"\n",
        "import zipfile\n",
        "import os\n",
        "\n",
        "zip_file_path = \"/content/your_uploaded_file.zip\"\n",
        "# Extracting\n",
        "extract_path = \"/content/my_folder\"\n",
        "with zipfile.ZipFile(\"Building Types.zip\", \"r\") as zip_ref:\n",
        "    zip_ref.extractall(extract_path)\n",
        "\n",
        "# Verify extraction\n",
        "print(\"Extracted files:\", os.listdir(extract_path))\n",
        "# Verify extraction\n",
        "print(\"Extracted files:\", os.listdir(extract_path))\n"
      ]
    },
    {
      "cell_type": "markdown",
      "metadata": {
        "id": "9mcBVbw9JmK0"
      },
      "source": [
        "# Define Constants"
      ]
    },
    {
      "cell_type": "code",
      "execution_count": 13,
      "metadata": {
        "id": "1R9EXeN1JmK1"
      },
      "outputs": [],
      "source": [
        "\n",
        "IMAGE_HEIGHT = 400 # The height the image is to be resized to\n",
        "IMAGE_WIDTH = 300 # The width the image is to be resized to\n",
        "BATCH_SIZE = 32\n",
        "\n",
        "# Define paths for data\n",
        "data_dir = 'data' # Ensure the name of the folder is set to this.\n",
        "class_names = ['Bungalow', 'Highrise', 'Storey-Building']\n",
        "\n"
      ]
    },
    {
      "cell_type": "markdown",
      "metadata": {
        "id": "nE7bkhXYJmK1"
      },
      "source": [
        "# Implement Data Generators and Preprocessing pipeline\n",
        "\n",
        "**This will create an easy preprocessing pipeline and will help load your data in batches**"
      ]
    },
    {
      "cell_type": "code",
      "execution_count": 21,
      "metadata": {
        "id": "vgAZFWawJmK1",
        "colab": {
          "base_uri": "https://localhost:8080/"
        },
        "outputId": "fd5ee80a-1c3f-40e4-d752-a590885fd85e"
      },
      "outputs": [
        {
          "output_type": "stream",
          "name": "stdout",
          "text": [
            "Found 959 images belonging to 3 classes.\n",
            "Found 238 images belonging to 3 classes.\n",
            "Found 1197 images belonging to 3 classes.\n"
          ]
        }
      ],
      "source": [
        "# Set up data generators for training and testing\n",
        "datagen = ImageDataGenerator(\n",
        "    rescale=1./255,            # Normalize pixel values to [0,1]\n",
        "    validation_split=0.2,      # 20% of data will be used for validation\n",
        "    rotation_range=40,          # Rotate images by up to 40 degrees\n",
        "    width_shift_range=0.2,     # Shift images horizontally by up to 20% of the width\n",
        "    height_shift_range=0.2,    # Shift images vertically by up to 20% of the height\n",
        "    shear_range=0.2,           # Apply shear transformations\n",
        "    zoom_range=0.2,            # Zoom in or out by up to 20%\n",
        "    horizontal_flip=True,       # Flip images horizontally\n",
        "    fill_mode='nearest'         # Fill in missing pixels using the nearest neighbor\n",
        ")\n",
        "\n",
        "data_dir = 'my_folder/Building Types'\n",
        "\n",
        "train_generator = datagen.flow_from_directory(\n",
        "    data_dir,\n",
        "    target_size=(IMAGE_HEIGHT, IMAGE_WIDTH),\n",
        "    batch_size=BATCH_SIZE,\n",
        "    class_mode='categorical',\n",
        "    subset='training'\n",
        ")\n",
        "\n",
        "validation_generator = datagen.flow_from_directory(\n",
        "    data_dir,\n",
        "    target_size=(IMAGE_HEIGHT, IMAGE_WIDTH),\n",
        "    batch_size=BATCH_SIZE,\n",
        "    class_mode='categorical',\n",
        "    subset='validation'\n",
        ")\n",
        "\n",
        "# Define test data generator\n",
        "# Assuming you have a separate directory for test data called 'test_data'\n",
        "#test_data_dir = 'my_folder/Building Types'  # Replace with your actual test data directory\n",
        "test_generator = datagen.flow_from_directory(\n",
        "    data_dir,\n",
        "    target_size=(IMAGE_HEIGHT, IMAGE_WIDTH),\n",
        "    batch_size=BATCH_SIZE,\n",
        "    class_mode='categorical',\n",
        "    shuffle=False\n",
        ")\n",
        "\n"
      ]
    },
    {
      "cell_type": "markdown",
      "metadata": {
        "id": "UggmkFgVIO-m"
      },
      "source": [
        "**Load InceptionV3 and Fine-Tune the Model**"
      ]
    },
    {
      "cell_type": "code",
      "execution_count": 15,
      "metadata": {
        "id": "uPTzXkLcINd1"
      },
      "outputs": [],
      "source": [
        "#Loading the pre-trained model InceptionV3\n",
        "inception_model = tf.keras.applications.InceptionV3(\n",
        "    weights='imagenet',  # Loading weights pre-trained on ImageNet\n",
        "    include_top=False,\n",
        "    input_shape=(IMAGE_HEIGHT, IMAGE_WIDTH, 3))  # image dimensions\n",
        "\n",
        "# load vgg16\n",
        "vgg_model = VGG16(weights='imagenet',\n",
        "                     include_top=False,\n",
        "                     input_shape=(IMAGE_HEIGHT, IMAGE_WIDTH, 3))\n",
        "\n",
        "# Freezing the layers in the base model\n",
        "inception_model.trainable = False\n",
        "vgg_model.trainable = False\n",
        "\n"
      ]
    },
    {
      "cell_type": "markdown",
      "metadata": {
        "id": "7t4mm_i3JmK2"
      },
      "source": [
        "# Model architecture"
      ]
    },
    {
      "cell_type": "code",
      "execution_count": 16,
      "metadata": {
        "id": "J0KnLXWlJmK2"
      },
      "outputs": [],
      "source": [
        "# Define the model architecture\n",
        "model = tf.keras.Sequential([\n",
        "    tf.keras.layers.Conv2D(16, (3,3), activation='relu', input_shape=(IMAGE_HEIGHT, IMAGE_WIDTH, 3)),\n",
        "    tf.keras.layers.MaxPooling2D(2,2),\n",
        "    tf.keras.layers.Conv2D(32, (3,3), activation='relu'),\n",
        "    tf.keras.layers.MaxPooling2D(2,2),\n",
        "    tf.keras.layers.Flatten(),\n",
        "    tf.keras.layers.Dense(128, activation='relu'),\n",
        "    tf.keras.layers.Dropout(0.5),  # Add a dropout layer with a rate of 0.5\n",
        "    tf.keras.layers.Dense(3, activation='softmax')  # 3 classes for building types\n",
        "])\n",
        "\n",
        "# Compile the model\n",
        "model.compile(optimizer='adam',\n",
        "            loss='categorical_crossentropy',\n",
        "            metrics=['accuracy'])\n",
        "\n"
      ]
    },
    {
      "cell_type": "markdown",
      "metadata": {
        "id": "aLAbxi7fJmK2"
      },
      "source": [
        "# Train the model"
      ]
    },
    {
      "cell_type": "code",
      "execution_count": 8,
      "metadata": {
        "id": "oaX3J2xkJmK3",
        "colab": {
          "base_uri": "https://localhost:8080/"
        },
        "outputId": "56f12dd9-17f9-4c1b-c9b1-58e2571d8a66"
      },
      "outputs": [
        {
          "metadata": {
            "tags": null
          },
          "name": "stderr",
          "output_type": "stream",
          "text": [
            "/usr/local/lib/python3.11/dist-packages/keras/src/trainers/data_adapters/py_dataset_adapter.py:121: UserWarning: Your `PyDataset` class should call `super().__init__(**kwargs)` in its constructor. `**kwargs` can include `workers`, `use_multiprocessing`, `max_queue_size`. Do not pass these arguments to `fit()`, as they will be ignored.\n",
            "  self._warn_if_super_not_called()\n"
          ]
        },
        {
          "output_type": "stream",
          "name": "stdout",
          "text": [
            "Epoch 1/10\n",
            "\u001b[1m30/30\u001b[0m \u001b[32m━━━━━━━━━━━━━━━━━━━━\u001b[0m\u001b[37m\u001b[0m \u001b[1m168s\u001b[0m 6s/step - accuracy: 0.4431 - loss: 12.0929 - val_accuracy: 0.5210 - val_loss: 1.0416\n",
            "Epoch 2/10\n",
            "\u001b[1m30/30\u001b[0m \u001b[32m━━━━━━━━━━━━━━━━━━━━\u001b[0m\u001b[37m\u001b[0m \u001b[1m161s\u001b[0m 5s/step - accuracy: 0.5356 - loss: 1.0657 - val_accuracy: 0.5210 - val_loss: 1.1089\n",
            "Epoch 3/10\n",
            "\u001b[1m30/30\u001b[0m \u001b[32m━━━━━━━━━━━━━━━━━━━━\u001b[0m\u001b[37m\u001b[0m \u001b[1m161s\u001b[0m 5s/step - accuracy: 0.5284 - loss: 1.0019 - val_accuracy: 0.5294 - val_loss: 0.9990\n",
            "Epoch 4/10\n",
            "\u001b[1m30/30\u001b[0m \u001b[32m━━━━━━━━━━━━━━━━━━━━\u001b[0m\u001b[37m\u001b[0m \u001b[1m211s\u001b[0m 6s/step - accuracy: 0.5590 - loss: 0.9051 - val_accuracy: 0.5462 - val_loss: 1.0433\n",
            "Epoch 5/10\n",
            "\u001b[1m30/30\u001b[0m \u001b[32m━━━━━━━━━━━━━━━━━━━━\u001b[0m\u001b[37m\u001b[0m \u001b[1m162s\u001b[0m 5s/step - accuracy: 0.5063 - loss: 0.8773 - val_accuracy: 0.5546 - val_loss: 0.9479\n",
            "Epoch 6/10\n",
            "\u001b[1m30/30\u001b[0m \u001b[32m━━━━━━━━━━━━━━━━━━━━\u001b[0m\u001b[37m\u001b[0m \u001b[1m160s\u001b[0m 5s/step - accuracy: 0.5734 - loss: 0.8601 - val_accuracy: 0.5630 - val_loss: 0.9313\n",
            "Epoch 7/10\n",
            "\u001b[1m30/30\u001b[0m \u001b[32m━━━━━━━━━━━━━━━━━━━━\u001b[0m\u001b[37m\u001b[0m \u001b[1m175s\u001b[0m 6s/step - accuracy: 0.5139 - loss: 0.8854 - val_accuracy: 0.5000 - val_loss: 1.0248\n",
            "Epoch 8/10\n",
            "\u001b[1m30/30\u001b[0m \u001b[32m━━━━━━━━━━━━━━━━━━━━\u001b[0m\u001b[37m\u001b[0m \u001b[1m189s\u001b[0m 5s/step - accuracy: 0.5465 - loss: 0.9034 - val_accuracy: 0.5294 - val_loss: 0.9247\n",
            "Epoch 9/10\n",
            "\u001b[1m30/30\u001b[0m \u001b[32m━━━━━━━━━━━━━━━━━━━━\u001b[0m\u001b[37m\u001b[0m \u001b[1m206s\u001b[0m 5s/step - accuracy: 0.5448 - loss: 0.8853 - val_accuracy: 0.4832 - val_loss: 0.9581\n",
            "Epoch 10/10\n",
            "\u001b[1m30/30\u001b[0m \u001b[32m━━━━━━━━━━━━━━━━━━━━\u001b[0m\u001b[37m\u001b[0m \u001b[1m161s\u001b[0m 5s/step - accuracy: 0.5735 - loss: 0.8596 - val_accuracy: 0.5966 - val_loss: 0.8585\n",
            "Epoch 1/10\n",
            "\u001b[1m30/30\u001b[0m \u001b[32m━━━━━━━━━━━━━━━━━━━━\u001b[0m\u001b[37m\u001b[0m \u001b[1m176s\u001b[0m 6s/step - accuracy: 0.5504 - loss: 0.8242 - val_accuracy: 0.5588 - val_loss: 0.9724\n",
            "Epoch 2/10\n",
            "\u001b[1m30/30\u001b[0m \u001b[32m━━━━━━━━━━━━━━━━━━━━\u001b[0m\u001b[37m\u001b[0m \u001b[1m163s\u001b[0m 5s/step - accuracy: 0.5847 - loss: 0.8367 - val_accuracy: 0.5588 - val_loss: 0.9045\n",
            "Epoch 3/10\n",
            "\u001b[1m30/30\u001b[0m \u001b[32m━━━━━━━━━━━━━━━━━━━━\u001b[0m\u001b[37m\u001b[0m \u001b[1m161s\u001b[0m 5s/step - accuracy: 0.5724 - loss: 0.8178 - val_accuracy: 0.5966 - val_loss: 0.8949\n",
            "Epoch 4/10\n",
            "\u001b[1m30/30\u001b[0m \u001b[32m━━━━━━━━━━━━━━━━━━━━\u001b[0m\u001b[37m\u001b[0m \u001b[1m175s\u001b[0m 6s/step - accuracy: 0.6042 - loss: 0.8236 - val_accuracy: 0.5588 - val_loss: 0.8862\n",
            "Epoch 5/10\n",
            "\u001b[1m30/30\u001b[0m \u001b[32m━━━━━━━━━━━━━━━━━━━━\u001b[0m\u001b[37m\u001b[0m \u001b[1m162s\u001b[0m 5s/step - accuracy: 0.5694 - loss: 0.8619 - val_accuracy: 0.5630 - val_loss: 0.8903\n",
            "Epoch 6/10\n",
            "\u001b[1m30/30\u001b[0m \u001b[32m━━━━━━━━━━━━━━━━━━━━\u001b[0m\u001b[37m\u001b[0m \u001b[1m164s\u001b[0m 5s/step - accuracy: 0.5763 - loss: 0.8148 - val_accuracy: 0.5420 - val_loss: 0.8969\n",
            "Epoch 7/10\n",
            "\u001b[1m30/30\u001b[0m \u001b[32m━━━━━━━━━━━━━━━━━━━━\u001b[0m\u001b[37m\u001b[0m \u001b[1m164s\u001b[0m 5s/step - accuracy: 0.6253 - loss: 0.7559 - val_accuracy: 0.5504 - val_loss: 0.9780\n",
            "Epoch 8/10\n",
            "\u001b[1m30/30\u001b[0m \u001b[32m━━━━━━━━━━━━━━━━━━━━\u001b[0m\u001b[37m\u001b[0m \u001b[1m173s\u001b[0m 6s/step - accuracy: 0.5851 - loss: 0.8367 - val_accuracy: 0.6092 - val_loss: 0.8591\n",
            "Epoch 9/10\n",
            "\u001b[1m30/30\u001b[0m \u001b[32m━━━━━━━━━━━━━━━━━━━━\u001b[0m\u001b[37m\u001b[0m \u001b[1m166s\u001b[0m 6s/step - accuracy: 0.6305 - loss: 0.7672 - val_accuracy: 0.5714 - val_loss: 0.8660\n",
            "Epoch 10/10\n",
            "\u001b[1m30/30\u001b[0m \u001b[32m━━━━━━━━━━━━━━━━━━━━\u001b[0m\u001b[37m\u001b[0m \u001b[1m165s\u001b[0m 5s/step - accuracy: 0.5990 - loss: 0.7922 - val_accuracy: 0.5336 - val_loss: 0.9275\n",
            "Epoch 1/10\n",
            "\u001b[1m30/30\u001b[0m \u001b[32m━━━━━━━━━━━━━━━━━━━━\u001b[0m\u001b[37m\u001b[0m \u001b[1m166s\u001b[0m 6s/step - accuracy: 0.5694 - loss: 0.8279 - val_accuracy: 0.5714 - val_loss: 0.8772\n",
            "Epoch 2/10\n",
            "\u001b[1m30/30\u001b[0m \u001b[32m━━━━━━━━━━━━━━━━━━━━\u001b[0m\u001b[37m\u001b[0m \u001b[1m162s\u001b[0m 5s/step - accuracy: 0.5990 - loss: 0.8084 - val_accuracy: 0.5420 - val_loss: 0.8648\n",
            "Epoch 3/10\n",
            "\u001b[1m30/30\u001b[0m \u001b[32m━━━━━━━━━━━━━━━━━━━━\u001b[0m\u001b[37m\u001b[0m \u001b[1m162s\u001b[0m 5s/step - accuracy: 0.5679 - loss: 0.7750 - val_accuracy: 0.5672 - val_loss: 0.8917\n",
            "Epoch 4/10\n",
            "\u001b[1m30/30\u001b[0m \u001b[32m━━━━━━━━━━━━━━━━━━━━\u001b[0m\u001b[37m\u001b[0m \u001b[1m204s\u001b[0m 5s/step - accuracy: 0.5960 - loss: 0.7705 - val_accuracy: 0.4874 - val_loss: 0.9519\n",
            "Epoch 5/10\n",
            "\u001b[1m30/30\u001b[0m \u001b[32m━━━━━━━━━━━━━━━━━━━━\u001b[0m\u001b[37m\u001b[0m \u001b[1m162s\u001b[0m 5s/step - accuracy: 0.5509 - loss: 0.8291 - val_accuracy: 0.5462 - val_loss: 0.9667\n",
            "Epoch 6/10\n",
            "\u001b[1m30/30\u001b[0m \u001b[32m━━━━━━━━━━━━━━━━━━━━\u001b[0m\u001b[37m\u001b[0m \u001b[1m167s\u001b[0m 6s/step - accuracy: 0.5829 - loss: 0.7749 - val_accuracy: 0.6555 - val_loss: 0.7697\n",
            "Epoch 7/10\n",
            "\u001b[1m30/30\u001b[0m \u001b[32m━━━━━━━━━━━━━━━━━━━━\u001b[0m\u001b[37m\u001b[0m \u001b[1m164s\u001b[0m 5s/step - accuracy: 0.6036 - loss: 0.7510 - val_accuracy: 0.6176 - val_loss: 0.8433\n",
            "Epoch 8/10\n",
            "\u001b[1m30/30\u001b[0m \u001b[32m━━━━━━━━━━━━━━━━━━━━\u001b[0m\u001b[37m\u001b[0m \u001b[1m162s\u001b[0m 5s/step - accuracy: 0.5962 - loss: 0.7531 - val_accuracy: 0.5882 - val_loss: 0.9015\n",
            "Epoch 9/10\n",
            "\u001b[1m30/30\u001b[0m \u001b[32m━━━━━━━━━━━━━━━━━━━━\u001b[0m\u001b[37m\u001b[0m \u001b[1m161s\u001b[0m 5s/step - accuracy: 0.6279 - loss: 0.7526 - val_accuracy: 0.5882 - val_loss: 0.8559\n",
            "Epoch 10/10\n",
            "\u001b[1m30/30\u001b[0m \u001b[32m━━━━━━━━━━━━━━━━━━━━\u001b[0m\u001b[37m\u001b[0m \u001b[1m165s\u001b[0m 5s/step - accuracy: 0.6423 - loss: 0.7414 - val_accuracy: 0.5714 - val_loss: 0.8846\n"
          ]
        },
        {
          "output_type": "stream",
          "name": "stderr",
          "text": [
            "WARNING:absl:You are saving your model as an HDF5 file via `model.save()` or `keras.saving.save_model(model)`. This file format is considered legacy. We recommend using instead the native Keras format, e.g. `model.save('my_model.keras')` or `keras.saving.save_model(model, 'my_model.keras')`. \n",
            "WARNING:absl:You are saving your model as an HDF5 file via `model.save()` or `keras.saving.save_model(model)`. This file format is considered legacy. We recommend using instead the native Keras format, e.g. `model.save('my_model.keras')` or `keras.saving.save_model(model, 'my_model.keras')`. \n",
            "WARNING:absl:You are saving your model as an HDF5 file via `model.save()` or `keras.saving.save_model(model)`. This file format is considered legacy. We recommend using instead the native Keras format, e.g. `model.save('my_model.keras')` or `keras.saving.save_model(model, 'my_model.keras')`. \n"
          ]
        }
      ],
      "source": [
        "# traning the model\n",
        "# Assign the 'model' instance to 'model1', 'model2', and 'model3'\n",
        "model1 = model\n",
        "model2 = model\n",
        "model3 = model\n",
        "history1 = model1.fit(train_generator, epochs=10, validation_data=validation_generator)\n",
        "history2 = model2.fit(train_generator, epochs=10, validation_data=validation_generator)\n",
        "history3 = model3.fit(train_generator, epochs=10, validation_data=validation_generator)\n",
        "# This part of the code allows you to train the model. You can decide to tweak the number of epochs by experimenting with different values.\n",
        "# Rule of thumb: Avoid using too large epochs, to avoid overfitting.\n",
        "\n",
        "# saving the trained model\n",
        "model1.save(\"model1.h5\")\n",
        "model2.save(\"model2.h5\")\n",
        "model3.save(\"model3.h5\")\n",
        "\n"
      ]
    },
    {
      "cell_type": "code",
      "execution_count": 22,
      "metadata": {
        "id": "Ndh8SJxnUgty",
        "colab": {
          "base_uri": "https://localhost:8080/"
        },
        "outputId": "2bab6808-f58d-426f-f622-c4b532a05f6f"
      },
      "outputs": [
        {
          "output_type": "stream",
          "name": "stderr",
          "text": [
            "WARNING:absl:Compiled the loaded model, but the compiled metrics have yet to be built. `model.compile_metrics` will be empty until you train or evaluate the model.\n",
            "WARNING:absl:Compiled the loaded model, but the compiled metrics have yet to be built. `model.compile_metrics` will be empty until you train or evaluate the model.\n",
            "WARNING:absl:Compiled the loaded model, but the compiled metrics have yet to be built. `model.compile_metrics` will be empty until you train or evaluate the model.\n"
          ]
        },
        {
          "output_type": "stream",
          "name": "stdout",
          "text": [
            "\u001b[1m1/1\u001b[0m \u001b[32m━━━━━━━━━━━━━━━━━━━━\u001b[0m\u001b[37m\u001b[0m \u001b[1m1s\u001b[0m 1s/step\n",
            "\u001b[1m1/1\u001b[0m \u001b[32m━━━━━━━━━━━━━━━━━━━━\u001b[0m\u001b[37m\u001b[0m \u001b[1m1s\u001b[0m 1s/step\n",
            "\u001b[1m1/1\u001b[0m \u001b[32m━━━━━━━━━━━━━━━━━━━━\u001b[0m\u001b[37m\u001b[0m \u001b[1m1s\u001b[0m 1s/step\n"
          ]
        }
      ],
      "source": [
        "# loading the trained model\n",
        "\n",
        "model1 = tf.keras.models.load_model(\"model1.h5\")\n",
        "model2 = tf.keras.models.load_model(\"model2.h5\")\n",
        "model3 = tf.keras.models.load_model(\"model3.h5\")\n",
        "\n",
        "\n",
        "test_images, test_labels = next(test_generator)  # Get test images\n",
        "\n",
        "# Get predictions from each model\n",
        "pred1 = model1.predict(test_images)\n",
        "pred2 = model2.predict(test_images)\n",
        "pred3 = model3.predict(test_images)\n"
      ]
    },
    {
      "cell_type": "code",
      "execution_count": 24,
      "metadata": {
        "id": "gQb8OUIrUtjg"
      },
      "outputs": [],
      "source": [
        "# computing averaged predictions\n",
        "\n",
        "final_pred = (pred1 + pred2 + pred3) / 3  # Simple averaging\n",
        "final_classes = np.argmax(final_pred, axis=1)  # Get final predicted class\n"
      ]
    },
    {
      "cell_type": "code",
      "execution_count": 26,
      "metadata": {
        "id": "Y-at74Q7YHCj",
        "colab": {
          "base_uri": "https://localhost:8080/",
          "height": 472
        },
        "outputId": "5bf07b30-9daf-49ec-b8c8-6462d72d94d6"
      },
      "outputs": [
        {
          "output_type": "display_data",
          "data": {
            "text/plain": [
              "<Figure size 640x480 with 1 Axes>"
            ],
            "image/png": "[encoded data removed]"
          },
          "metadata": {}
        }
      ],
      "source": [
        "# Plot training and validation accuracy\n",
        "plt.plot(history1.history['accuracy'], label='Training Accuracy')\n",
        "plt.plot(history1.history['val_accuracy'], label='Validation Accuracy')\n",
        "plt.xlabel('Epoch')\n",
        "plt.ylabel('Accuracy')\n",
        "plt.title('Training and Validation Accuracy')\n",
        "plt.legend(loc='lower right')\n",
        "plt.show()"
      ]
    },
    {
      "cell_type": "markdown",
      "metadata": {
        "id": "tPPxbAhMJmK3"
      },
      "source": [
        "# Evaluate the model"
      ]
    },
    {
      "cell_type": "code",
      "execution_count": 27,
      "metadata": {
        "id": "-FanPVLxJmK3",
        "colab": {
          "base_uri": "https://localhost:8080/"
        },
        "outputId": "f0a0b5d7-67cb-4b5b-b0b1-031528f27f1a"
      },
      "outputs": [
        {
          "output_type": "stream",
          "name": "stdout",
          "text": [
            "Ensemble Model Accuracy: 46.88%\n"
          ]
        }
      ],
      "source": [
        "true_classes = np.argmax(test_labels, axis=1)  # Get true class labels\n",
        "accuracy = accuracy_score(true_classes, final_classes)\n",
        "\n",
        "print(f\"Ensemble Model Accuracy: {accuracy * 100:.2f}%\")\n",
        "\n"
      ]
    },
    {
      "cell_type": "markdown",
      "metadata": {
        "id": "farui87nJmK4"
      },
      "source": [
        "# Save the Model"
      ]
    },
    {
      "cell_type": "code",
      "execution_count": 29,
      "metadata": {
        "id": "co0XaCNqJmK4"
      },
      "outputs": [],
      "source": [
        "path_to_save_model = 'path_to_save_model.keras'  # Or 'path_to_save_model.h5'\n",
        "\n",
        "# Save the entire model (including architecture, weights, and optimizer state)\n",
        "model.save(path_to_save_model)"
      ]
    },
    {
      "cell_type": "markdown",
      "metadata": {
        "id": "AvK7LNJzJmK1"
      },
      "source": [
        "## **Changes made by Bagai Glory**\n",
        "\n",
        "\n",
        "1.   I included Data Augumentation parameters withing the ImageDataGenrator\n",
        "2.   Fine tuning the model using InceptionV3\n",
        "3. Included the dropout function to manage overfitting in the data.\n",
        "4. Implemented a learning rate schedule Adam.\n",
        "5. I included Ensembling Techniques by combining multiple models to improve the accuracy of the final model.\n",
        "6.  I Leveraged Transfer Learning for Improved Performance\n"
      ]
    },
    {
      "cell_type": "markdown",
      "metadata": {
        "id": "f3y45Eu2ZNx3"
      },
      "source": [
        "## **Train and Test with Tensorflow**\n",
        "\n",
        "Train, test and validation on image classification with tensorflow and pytorch.\n",
        "\n",
        "The data was split into the training and test data. the training data set is used to train the model, the validation data set it used to validate the model whilst it is training and the test set is used to assess the model once training is complete\n",
        "\n",
        "Understanding Train, Test, and Validation Sets:\n",
        "Training Set: This is the data used to train the model. The model learns from this data by adjusting its internal parameters.\n",
        "\n",
        "Validation Set: This set is used to validate the model's performance during training, allowing me to fine-tune the hyperparameters and avoid overfitting. It's used while the model is being trained to check how well the model generalizes on unseen data.\n",
        "\n",
        "Test Set: This data is kept completely unseen by the model during training and validation. It's used at the end to evaluate the model's final performance. This helps in estimating how well the model will perform on real-world data.\n",
        "\n",
        "Key Points for the Notebook\n",
        "Training with validation: During training, the validation_data argument allows you to evaluate the model at the end of each epoch using the validation set.\n",
        "Testing: After training, you use the evaluate() method to assess your model's performance on the test set, which has been completely unseen by the model.\n",
        "\n",
        "When to Use Just Train and Test:\n",
        "If you don’t want to use a validation set, you can just split the dataset into training and testing. However, this is generally not recommended for deep learning tasks because it can lead to overfitting and unreliable evaluations.\n",
        "\n",
        "Pros of using train, validation, and test splits: It gives a better estimate of how well the model generalizes to unseen data, and it allows hyperparameter tuning based on validation performance.\n",
        "Cons of using only train and test: Without a validation set, you risk overfitting your model because there's no internal mechanism to check generalization during training.\n",
        "\n",
        "\n",
        "\n",
        "\n",
        "\n",
        "\n",
        "\n",
        "\n"
      ]
    },
    {
      "cell_type": "markdown",
      "source": [
        "## **Model Implementation with Pytorch**"
      ],
      "metadata": {
        "id": "__CF7cxU4kXu"
      }
    },
    {
      "cell_type": "markdown",
      "source": [
        "**Setting Code Directory**"
      ],
      "metadata": {
        "id": "i8zi9y79Aus4"
      }
    },
    {
      "cell_type": "code",
      "source": [
        "# the paths for the ZIP file and extraction directory\n",
        "zip_file_path = \"/content/Building Types.zip\"  # Ensure this path is correct\n",
        "extract_path = \"/content/my_folder\"\n",
        "\n",
        "# Extraction of the ZIP file\n",
        "with zipfile.ZipFile(zip_file_path, \"r\") as zip_ref:\n",
        "    zip_ref.extractall(extract_path)\n",
        "\n",
        "# Verifying extraction\n",
        "print(\"Extracted files:\", os.listdir(extract_path))"
      ],
      "metadata": {
        "colab": {
          "base_uri": "https://localhost:8080/"
        },
        "id": "Gg6n10Co-Nlv",
        "outputId": "71e30f7e-0f94-45d6-a28a-cb8a3325793e"
      },
      "execution_count": 40,
      "outputs": [
        {
          "output_type": "stream",
          "name": "stdout",
          "text": [
            "Extracted files: ['__MACOSX', 'Building Types']\n"
          ]
        }
      ]
    },
    {
      "cell_type": "markdown",
      "source": [
        "**Defining Constants **"
      ],
      "metadata": {
        "id": "76kk4IRIAmr8"
      }
    },
    {
      "cell_type": "code",
      "source": [
        "\n",
        "IMAGE_HEIGHT = 400 # The height the image is to be resized to\n",
        "IMAGE_WIDTH = 300 # The width the image is to be resized to\n",
        "BATCH_SIZE = 32\n",
        "NUM_CLASSES = 3\n",
        "NUM_EPOCHS = 10\n",
        "\n",
        "# Define paths for data\n",
        "DATA_DIR = '/content/my_folder/Building Types'\n",
        "class_names = ['Bungalow', 'Highrise', 'Storey-Building']\n",
        ""
      ],
      "metadata": {
        "id": "ci8vqzWx6uml"
      },
      "execution_count": 51,
      "outputs": []
    },
    {
      "cell_type": "code",
      "source": [
        "# Defining data augmentation and normalization transforms\n",
        "# For training, I included several random transformations similar to ImageDataGenerator\n",
        "train_transforms = transforms.Compose([\n",
        "    transforms.Resize((IMAGE_HEIGHT, IMAGE_WIDTH)),\n",
        "    transforms.RandomRotation(40),\n",
        "    transforms.RandomHorizontalFlip(),\n",
        "    transforms.RandomResizedCrop((IMAGE_HEIGHT, IMAGE_WIDTH), scale=(0.8, 1.0)),\n",
        "    transforms.ColorJitter(brightness=0.2, contrast=0.2, saturation=0.2, hue=0.2),\n",
        "    transforms.ToTensor(),\n",
        "    transforms.Normalize([0.485, 0.456, 0.406],  # Using ImageNet statistics\n",
        "                         [0.229, 0.224, 0.225])\n",
        "])"
      ],
      "metadata": {
        "id": "O3Uq-x9o7EWy"
      },
      "execution_count": 42,
      "outputs": []
    },
    {
      "cell_type": "code",
      "source": [
        "# For validation and testing, only resize and normalize\n",
        "val_test_transforms = transforms.Compose([\n",
        "    transforms.Resize((IMAGE_HEIGHT, IMAGE_WIDTH)),\n",
        "    transforms.ToTensor(),\n",
        "    transforms.Normalize([0.485, 0.456, 0.406],\n",
        "                         [0.229, 0.224, 0.225])\n",
        "])"
      ],
      "metadata": {
        "id": "vMurxmzv7PoW"
      },
      "execution_count": 43,
      "outputs": []
    },
    {
      "cell_type": "code",
      "source": [
        "# Loading the dataset using ImageFolder. The images will be organized into subdirectories by class.\n",
        "full_dataset = datasets.ImageFolder(root=DATA_DIR, transform=train_transforms)\n",
        "dataset_size = len(full_dataset)\n",
        "print(f\"Total images found: {dataset_size}\")\n"
      ],
      "metadata": {
        "colab": {
          "base_uri": "https://localhost:8080/"
        },
        "id": "NUfSw1Rx7qdj",
        "outputId": "f6c488e3-0caa-453c-d133-255d2f8caf94"
      },
      "execution_count": 44,
      "outputs": [
        {
          "output_type": "stream",
          "name": "stdout",
          "text": [
            "Total images found: 1197\n"
          ]
        }
      ]
    },
    {
      "cell_type": "markdown",
      "source": [
        "Definiing Model Architecture"
      ],
      "metadata": {
        "id": "JA5DRlkY4xR0"
      }
    },
    {
      "cell_type": "code",
      "source": [
        "# Spliting dataset into train (80%), validation (10%), and test (10%)\n",
        "train_size = int(0.8 * dataset_size)\n",
        "val_size = int(0.1 * dataset_size)\n",
        "test_size = dataset_size - train_size - val_size\n",
        "train_dataset, val_dataset, test_dataset = random_split(full_dataset, [train_size, val_size, test_size])"
      ],
      "metadata": {
        "id": "ZMZRZz5X-5tS"
      },
      "execution_count": 47,
      "outputs": []
    },
    {
      "cell_type": "code",
      "source": [
        "# Overriding the transform for validation and test datasets to use val_test_transforms\n",
        "val_dataset.dataset.transform = val_test_transforms\n",
        "test_dataset.dataset.transform = val_test_transforms"
      ],
      "metadata": {
        "id": "uER6zVNu_JcG"
      },
      "execution_count": 48,
      "outputs": []
    },
    {
      "cell_type": "code",
      "source": [
        "# Creating DataLoaders for each dataset\n",
        "train_loader = DataLoader(train_dataset, batch_size=BATCH_SIZE, shuffle=True)\n",
        "val_loader = DataLoader(val_dataset, batch_size=BATCH_SIZE, shuffle=False)\n",
        "test_loader = DataLoader(test_dataset, batch_size=BATCH_SIZE, shuffle=False)"
      ],
      "metadata": {
        "id": "gQEWdF_s_Nmw"
      },
      "execution_count": 49,
      "outputs": []
    },
    {
      "cell_type": "code",
      "source": [
        "# Definin a simple CNN model similar\n",
        "class SimpleCNN(nn.Module):\n",
        "    def __init__(self, num_classes=NUM_CLASSES):\n",
        "        super(SimpleCNN, self).__init__()\n",
        "        # Convolutional layers\n",
        "        self.conv1 = nn.Conv2d(in_channels=3, out_channels=16, kernel_size=3, padding=1)\n",
        "        self.pool = nn.MaxPool2d(2, 2)\n",
        "        self.conv2 = nn.Conv2d(in_channels=16, out_channels=32, kernel_size=3, padding=1)\n",
        "\n",
        "        # Calculate the size of the feature maps after two pooling layers.\n",
        "        # With two 2x2 poolings, the height and width will be divided by 4.\n",
        "        final_height = IMAGE_HEIGHT // 4\n",
        "        final_width = IMAGE_WIDTH // 4\n",
        "        self.flattened_size = 32 * final_height * final_width\n",
        "\n",
        "        # Fully connected layers\n",
        "        self.fc1 = nn.Linear(self.flattened_size, 128)\n",
        "        self.dropout = nn.Dropout(0.5)\n",
        "        self.fc2 = nn.Linear(128, num_classes)\n",
        "\n",
        "    def forward(self, x):\n",
        "        x = torch.relu(self.conv1(x))\n",
        "        x = self.pool(x)\n",
        "        x = torch.relu(self.conv2(x))\n",
        "        x = self.pool(x)\n",
        "        x = x.view(x.size(0), -1)  # Flatten the tensor\n",
        "        x = torch.relu(self.fc1(x))\n",
        "        x = self.dropout(x)\n",
        "        x = self.fc2(x)\n",
        "        return x"
      ],
      "metadata": {
        "id": "e84gIsd64jly"
      },
      "execution_count": 52,
      "outputs": []
    },
    {
      "cell_type": "markdown",
      "source": [
        "**Model Instance**"
      ],
      "metadata": {
        "id": "J2HW-_0k41vo"
      }
    },
    {
      "cell_type": "code",
      "source": [
        "model = BuildingClassifier()"
      ],
      "metadata": {
        "id": "bIcIbjp54679"
      },
      "execution_count": 53,
      "outputs": []
    },
    {
      "cell_type": "markdown",
      "source": [
        "**Optimizer & Loss Function**"
      ],
      "metadata": {
        "id": "FC42F8Hz5Fq8"
      }
    },
    {
      "cell_type": "code",
      "source": [
        "# Initializing the model, loss function, and optimizer\n",
        "device = torch.device(\"cuda\" if torch.cuda.is_available() else \"cpu\")\n",
        "model = SimpleCNN(num_classes=NUM_CLASSES).to(device)\n",
        "criterion = nn.CrossEntropyLoss()\n",
        "optimizer = optim.Adam(model.parameters(), lr=0.001)\n"
      ],
      "metadata": {
        "id": "br3wYxi347b-"
      },
      "execution_count": 54,
      "outputs": []
    },
    {
      "cell_type": "markdown",
      "source": [
        "**Training the Model**"
      ],
      "metadata": {
        "id": "URs2bI8W5O9Q"
      }
    },
    {
      "cell_type": "code",
      "source": [
        "# Training loop\n",
        "print(\"Starting training...\")\n",
        "for epoch in range(NUM_EPOCHS):\n",
        "    model.train()\n",
        "    running_loss = 0.0\n",
        "    running_corrects = 0\n",
        "\n",
        "    for inputs, labels in train_loader:\n",
        "        inputs = inputs.to(device)\n",
        "        labels = labels.to(device)\n",
        "\n",
        "        # Zero the parameter gradients\n",
        "        optimizer.zero_grad()\n",
        "\n",
        "        # Forward pass\n",
        "        outputs = model(inputs)\n",
        "        loss = criterion(outputs, labels)\n",
        "\n",
        "        # Backward pass and optimization\n",
        "        loss.backward()\n",
        "        optimizer.step()\n",
        "\n",
        "        running_loss += loss.item() * inputs.size(0)\n",
        "        _, preds = torch.max(outputs, 1)\n",
        "        running_corrects += torch.sum(preds == labels.data)\n",
        "\n",
        "    epoch_loss = running_loss / train_size\n",
        "    epoch_acc = running_corrects.double() / train_size\n",
        "    print(f\"Epoch {epoch+1}/{NUM_EPOCHS} - Loss: {epoch_loss:.4f} Acc: {epoch_acc:.4f}\")\n",
        "\n",
        "    # Validation phase\n",
        "    model.eval()\n",
        "    val_loss = 0.0\n",
        "    val_corrects = 0\n",
        "    with torch.no_grad():\n",
        "        for inputs, labels in val_loader:\n",
        "            inputs = inputs.to(device)\n",
        "            labels = labels.to(device)\n",
        "            outputs = model(inputs)\n",
        "            loss = criterion(outputs, labels)\n",
        "            val_loss += loss.item() * inputs.size(0)\n",
        "            _, preds = torch.max(outputs, 1)\n",
        "            val_corrects += torch.sum(preds == labels.data)\n",
        "\n",
        "    val_epoch_loss = val_loss / val_size\n",
        "    val_epoch_acc = val_corrects.double() / val_size\n",
        "    print(f\"Validation - Loss: {val_epoch_loss:.4f} Acc: {val_epoch_acc:.4f}\")\n",
        "\n",
        ""
      ],
      "metadata": {
        "colab": {
          "base_uri": "https://localhost:8080/"
        },
        "id": "53Jaxz8C5OSW",
        "outputId": "89a684b7-5103-44e7-ac3b-9ec2440d15a9"
      },
      "execution_count": 56,
      "outputs": [
        {
          "output_type": "stream",
          "name": "stdout",
          "text": [
            "Starting training...\n",
            "Epoch 1/10 - Loss: 0.8645 Acc: 0.6061\n",
            "Validation - Loss: 0.7626 Acc: 0.6555\n",
            "Epoch 2/10 - Loss: 0.6242 Acc: 0.7189\n",
            "Validation - Loss: 0.6898 Acc: 0.6387\n",
            "Epoch 3/10 - Loss: 0.4284 Acc: 0.8359\n",
            "Validation - Loss: 0.6960 Acc: 0.6639\n",
            "Epoch 4/10 - Loss: 0.3245 Acc: 0.8746\n",
            "Validation - Loss: 0.7570 Acc: 0.6891\n",
            "Epoch 5/10 - Loss: 0.1804 Acc: 0.9478\n",
            "Validation - Loss: 0.9105 Acc: 0.6555\n",
            "Epoch 6/10 - Loss: 0.1364 Acc: 0.9613\n",
            "Validation - Loss: 0.7583 Acc: 0.6975\n",
            "Epoch 7/10 - Loss: 0.0875 Acc: 0.9781\n",
            "Validation - Loss: 0.9437 Acc: 0.6723\n",
            "Epoch 8/10 - Loss: 0.0804 Acc: 0.9791\n",
            "Validation - Loss: 0.8843 Acc: 0.6807\n",
            "Epoch 9/10 - Loss: 0.0514 Acc: 0.9854\n",
            "Validation - Loss: 0.9779 Acc: 0.6807\n",
            "Epoch 10/10 - Loss: 0.0358 Acc: 0.9906\n",
            "Validation - Loss: 1.0999 Acc: 0.6723\n"
          ]
        }
      ]
    },
    {
      "cell_type": "markdown",
      "source": [
        "**Testing the Model**"
      ],
      "metadata": {
        "id": "IDpkAgJM_6dc"
      }
    },
    {
      "cell_type": "code",
      "source": [
        "# Testing phase\n",
        "model.eval()\n",
        "test_corrects = 0\n",
        "with torch.no_grad():\n",
        "    for inputs, labels in test_loader:\n",
        "        inputs = inputs.to(device)\n",
        "        labels = labels.to(device)\n",
        "        outputs = model(inputs)\n",
        "        _, preds = torch.max(outputs, 1)\n",
        "        test_corrects += torch.sum(preds == labels.data)\n",
        "\n",
        "test_accuracy = test_corrects.double() / test_size\n",
        "print(f\"Test Accuracy: {test_accuracy:.4f}\")\n"
      ],
      "metadata": {
        "colab": {
          "base_uri": "https://localhost:8080/"
        },
        "id": "MJU-GYJy5MmX",
        "outputId": "59dc94e0-ef2e-4e9d-c65b-0fc6a4f6a727"
      },
      "execution_count": 57,
      "outputs": [
        {
          "output_type": "stream",
          "name": "stdout",
          "text": [
            "Test Accuracy: 0.5950\n"
          ]
        }
      ]
    },
    {
      "cell_type": "markdown",
      "source": [
        "**Save the Model**"
      ],
      "metadata": {
        "id": "YlqaABXo__Em"
      }
    },
    {
      "cell_type": "code",
      "source": [
        "# save the model\n",
        "torch.save(model.state_dict(), \"pytorch_model.pth\")\n",
        "print(\"Model saved as pytorch_model.pth\")"
      ],
      "metadata": {
        "colab": {
          "base_uri": "https://localhost:8080/"
        },
        "id": "h0Py7FxJACvM",
        "outputId": "aeb9ef00-ded9-4b37-9828-186501c2b3a7"
      },
      "execution_count": 58,
      "outputs": [
        {
          "output_type": "stream",
          "name": "stdout",
          "text": [
            "Model saved as pytorch_model.pth\n"
          ]
        }
      ]
    },
    {
      "cell_type": "code",
      "source": [
        "!git add .\n",
        "!git commit -m \"updated version: the model was also trained with pytorch in this notebook\"\n",
        "!git push origin main  # Or replace 'main' with your branch name\n"
      ],
      "metadata": {
        "colab": {
          "base_uri": "https://localhost:8080/"
        },
        "id": "0GcPmqplAE7t",
        "outputId": "ff810c8d-4db1-41e8-832d-2c5912772d4d"
      },
      "execution_count": 59,
      "outputs": [
        {
          "output_type": "stream",
          "name": "stdout",
          "text": [
            "fatal: not a git repository (or any of the parent directories): .git\n",
            "fatal: not a git repository (or any of the parent directories): .git\n",
            "fatal: not a git repository (or any of the parent directories): .git\n"
          ]
        }
      ]
    },
    {
      "cell_type": "code",
      "source": [],
      "metadata": {
        "id": "WGlucOuJHhtn"
      },
      "execution_count": null,
      "outputs": []
    }
  ],
  "metadata": {
    "colab": {
      "provenance": [],
      "include_colab_link": true
    },
    "kernelspec": {
      "display_name": "Python 3",
      "language": "python",
      "name": "python3"
    },
    "language_info": {
      "codemirror_mode": {
        "name": "ipython",
        "version": 3
      },
      "file_extension": ".py",
      "mimetype": "text/x-python",
      "name": "python",
      "nbconvert_exporter": "python",
      "pygments_lexer": "ipython3",
      "version": "3.8.3"
    }
  },
  "nbformat": 4,
  "nbformat_minor": 0
}